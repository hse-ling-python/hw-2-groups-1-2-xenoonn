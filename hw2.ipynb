{
 "cells": [
  {
   "cell_type": "code",
   "execution_count": 1,
   "metadata": {},
   "outputs": [
    {
     "name": "stdout",
     "output_type": "stream",
     "text": [
      "Requirement already satisfied: pymystem3 in /Users/ico/anaconda3/lib/python3.7/site-packages (0.2.0)\n",
      "Requirement already satisfied: requests in /Users/ico/anaconda3/lib/python3.7/site-packages (from pymystem3) (2.22.0)\n",
      "Requirement already satisfied: certifi>=2017.4.17 in /Users/ico/anaconda3/lib/python3.7/site-packages (from requests->pymystem3) (2019.6.16)\n",
      "Requirement already satisfied: idna<2.9,>=2.5 in /Users/ico/anaconda3/lib/python3.7/site-packages (from requests->pymystem3) (2.8)\n",
      "Requirement already satisfied: urllib3!=1.25.0,!=1.25.1,<1.26,>=1.21.1 in /Users/ico/anaconda3/lib/python3.7/site-packages (from requests->pymystem3) (1.24.2)\n",
      "Requirement already satisfied: chardet<3.1.0,>=3.0.2 in /Users/ico/anaconda3/lib/python3.7/site-packages (from requests->pymystem3) (3.0.4)\n",
      "Note: you may need to restart the kernel to use updated packages.\n"
     ]
    }
   ],
   "source": [
    "pip install pymystem3"
   ]
  },
  {
   "cell_type": "code",
   "execution_count": 2,
   "metadata": {},
   "outputs": [
    {
     "name": "stdout",
     "output_type": "stream",
     "text": [
      "Requirement already satisfied: pymorphy2 in /Users/ico/anaconda3/lib/python3.7/site-packages (0.8)\n",
      "Requirement already satisfied: dawg-python>=0.7 in /Users/ico/anaconda3/lib/python3.7/site-packages (from pymorphy2) (0.7.2)\n",
      "Requirement already satisfied: docopt>=0.6 in /Users/ico/anaconda3/lib/python3.7/site-packages (from pymorphy2) (0.6.2)\n",
      "Requirement already satisfied: pymorphy2-dicts<3.0,>=2.4 in /Users/ico/anaconda3/lib/python3.7/site-packages (from pymorphy2) (2.4.393442.3710985)\n",
      "Note: you may need to restart the kernel to use updated packages.\n"
     ]
    }
   ],
   "source": [
    "pip install pymorphy2"
   ]
  },
  {
   "cell_type": "code",
   "execution_count": 3,
   "metadata": {},
   "outputs": [],
   "source": [
    "from pymystem3 import Mystem\n",
    "m = Mystem()"
   ]
  },
  {
   "cell_type": "code",
   "execution_count": 4,
   "metadata": {},
   "outputs": [],
   "source": [
    "def opening():\n",
    "    with open('groza.txt', encoding = 'utf-8') as f:\n",
    "        text = f.read()\n",
    "    return text\n",
    "text = opening()"
   ]
  },
  {
   "cell_type": "code",
   "execution_count": 5,
   "metadata": {},
   "outputs": [
    {
     "name": "stdout",
     "output_type": "stream",
     "text": [
      "CPU times: user 3 µs, sys: 0 ns, total: 3 µs\n",
      "Wall time: 5.01 µs\n",
      "CPU times: user 3 µs, sys: 0 ns, total: 3 µs\n",
      "Wall time: 6.2 µs\n"
     ]
    }
   ],
   "source": [
    "def parsing(text):\n",
    "    ana = m.analyze(text)\n",
    "    time_1 = %time\n",
    "    return ana\n",
    "    return time_1\n",
    "ana = parsing(text)\n",
    "time_1 = parsing(text)"
   ]
  },
  {
   "cell_type": "code",
   "execution_count": 6,
   "metadata": {},
   "outputs": [],
   "source": [
    "import json\n",
    "def write(ana, time_1):\n",
    "    with open('new.json','w',encoding = 'utf-8') as d:\n",
    "        json_ana = json.dump(time_1, d)\n",
    "        json_ana = json.dump(ana, d, ensure_ascii=False)\n",
    "    return json_ana\n",
    "json_ana = write(ana, time_1)"
   ]
  },
  {
   "cell_type": "code",
   "execution_count": 7,
   "metadata": {},
   "outputs": [
    {
     "name": "stdout",
     "output_type": "stream",
     "text": [
      "Requirement already satisfied: nltk in /Users/ico/anaconda3/lib/python3.7/site-packages (3.4.4)\n",
      "Requirement already satisfied: six in /Users/ico/anaconda3/lib/python3.7/site-packages (from nltk) (1.12.0)\n",
      "Note: you may need to restart the kernel to use updated packages.\n"
     ]
    }
   ],
   "source": [
    "pip install nltk"
   ]
  },
  {
   "cell_type": "code",
   "execution_count": 8,
   "metadata": {},
   "outputs": [
    {
     "name": "stderr",
     "output_type": "stream",
     "text": [
      "[nltk_data] Downloading package punkt to /Users/ico/nltk_data...\n",
      "[nltk_data]   Package punkt is already up-to-date!\n"
     ]
    },
    {
     "data": {
      "text/plain": [
       "True"
      ]
     },
     "execution_count": 8,
     "metadata": {},
     "output_type": "execute_result"
    }
   ],
   "source": [
    "import nltk\n",
    "nltk.download('punkt')"
   ]
  },
  {
   "cell_type": "code",
   "execution_count": 9,
   "metadata": {},
   "outputs": [],
   "source": [
    "from nltk.tokenize import word_tokenize\n",
    "def token(text):\n",
    "    token_text = word_tokenize(text)\n",
    "    return token_text\n",
    "token_text = token(text)"
   ]
  },
  {
   "cell_type": "code",
   "execution_count": 10,
   "metadata": {},
   "outputs": [],
   "source": [
    "from pymorphy2 import MorphAnalyzer\n",
    "morph = MorphAnalyzer()"
   ]
  },
  {
   "cell_type": "code",
   "execution_count": 11,
   "metadata": {},
   "outputs": [
    {
     "name": "stdout",
     "output_type": "stream",
     "text": [
      "CPU times: user 3 µs, sys: 0 ns, total: 3 µs\n",
      "Wall time: 4.05 µs\n",
      "CPU times: user 2 µs, sys: 0 ns, total: 2 µs\n",
      "Wall time: 5.01 µs\n"
     ]
    }
   ],
   "source": [
    "def pymorphh(token_text):\n",
    "    data =  []\n",
    "    for word in token_text:\n",
    "        data.append(morph.parse(word))\n",
    "    time_2 = %time\n",
    "    return data\n",
    "    return time_2\n",
    "data = pymorphh(token_text)\n",
    "time_2 = pymorphh(token_text)"
   ]
  },
  {
   "cell_type": "code",
   "execution_count": 12,
   "metadata": {},
   "outputs": [],
   "source": [
    "def lemmas(data):\n",
    "    kok = list(data)\n",
    "    k_str = ' '.join(str(x) for x in kok)\n",
    "    ana_2 = k_str.split(', ')\n",
    "    return ana_2\n",
    "ana_2 = lemmas(data)"
   ]
  },
  {
   "cell_type": "code",
   "execution_count": 25,
   "metadata": {},
   "outputs": [],
   "source": [
    "import json\n",
    "def file_2(ana_2, time_2):\n",
    "    with open('new_2.json','w',encoding = 'utf-8') as d:\n",
    "        json_ana = json.dump(time_1, d)\n",
    "        json_ana = json.dump(ana_2, d, ensure_ascii=False)\n",
    "    return json_ana\n",
    "json_ana = file_2(ana_2, time_2)"
   ]
  },
  {
   "cell_type": "code",
   "execution_count": 46,
   "metadata": {},
   "outputs": [],
   "source": [
    "from collections import Counter\n",
    "def counting(ana):\n",
    "    ana_3 = []\n",
    "    ana_4 = []\n",
    "    for word in ana:\n",
    "        if 'analysis' in word:\n",
    "            gr = word['analysis'][0]['gr']\n",
    "            pos = gr.split('=')[0].split(',')[0]\n",
    "            ana_3.append(word['text'])\n",
    "            ana_4.append(pos)\n",
    "    len_main = len(ana_3)\n",
    "    d = {}\n",
    "    cnt = Counter(ana_4)\n",
    "    for value,key in cnt.items():\n",
    "        d[key] = value\n",
    "    for key, value in d.items():\n",
    "        print(value,'=',round(key/len_main*100), '% составляет данная часть речи')"
   ]
  },
  {
   "cell_type": "code",
   "execution_count": 47,
   "metadata": {},
   "outputs": [
    {
     "name": "stdout",
     "output_type": "stream",
     "text": [
      "S = 21 % составляет данная часть речи\n",
      "ANUM = 0 % составляет данная часть речи\n",
      "A = 3 % составляет данная часть речи\n",
      "PR = 8 % составляет данная часть речи\n",
      "NUM = 0 % составляет данная часть речи\n",
      "CONJ = 10 % составляет данная часть речи\n",
      "V = 19 % составляет данная часть речи\n",
      "ADV = 5 % составляет данная часть речи\n",
      "PART = 11 % составляет данная часть речи\n",
      "SPRO = 14 % составляет данная часть речи\n",
      "APRO = 4 % составляет данная часть речи\n",
      "ADVPRO = 3 % составляет данная часть речи\n",
      "INTJ = 1 % составляет данная часть речи\n"
     ]
    }
   ],
   "source": [
    "if __name__ == '__main__':\n",
    "    counting(ana)"
   ]
  },
  {
   "cell_type": "code",
   "execution_count": null,
   "metadata": {},
   "outputs": [],
   "source": []
  }
 ],
 "metadata": {
  "kernelspec": {
   "display_name": "Python 3",
   "language": "python",
   "name": "python3"
  },
  "language_info": {
   "codemirror_mode": {
    "name": "ipython",
    "version": 3
   },
   "file_extension": ".py",
   "mimetype": "text/x-python",
   "name": "python",
   "nbconvert_exporter": "python",
   "pygments_lexer": "ipython3",
   "version": "3.7.3"
  }
 },
 "nbformat": 4,
 "nbformat_minor": 2
}
